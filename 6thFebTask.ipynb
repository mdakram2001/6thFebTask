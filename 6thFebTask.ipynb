{
 "cells": [
  {
   "cell_type": "code",
   "execution_count": 3,
   "id": "48ed7b4e-f990-467a-b5a6-fffcad548b6f",
   "metadata": {},
   "outputs": [
    {
     "name": "stdout",
     "output_type": "stream",
     "text": [
      "The sum of all numbers in the given list is : 4134711838987085478833841242112000\n"
     ]
    }
   ],
   "source": [
    "\"\"\"Q1. Create a function which will take a list as an argument and return the product of all the numbers\n",
    "after creating a flat list.\n",
    "Use the below-given list as an argument for your function.\"\"\"\n",
    "\n",
    "list1 = [1,2,3,4, [44,55,66, True], False, (34,56,78,89,34), {1,2,3,3,2,1}, {1:34, \"key2\": [55, 67, 78, 89], 4: (45,22, 61, 34)}, [56, 'data science'], 'Machine Learning']\n",
    "\n",
    "def calc_num(x):\n",
    "    sum = 1\n",
    "    for i in x:\n",
    "        if type(i) == int:\n",
    "            sum = sum * i\n",
    "        elif type(i) == dict:\n",
    "            l = list(i.items())\n",
    "            for i in l:\n",
    "                for j in i:\n",
    "                    if type(j) == int:\n",
    "                        sum = sum * j\n",
    "                    elif type(j) == list or tuple or set:\n",
    "                        for k in j:\n",
    "                            if type(k) == int:\n",
    "                                sum = sum * k\n",
    "        elif type(i) == bool:\n",
    "            continue\n",
    "        elif type(i) == list or tuple or set:\n",
    "            for j in i:\n",
    "                if type(j) == int:\n",
    "                    sum = sum * j\n",
    "                else:\n",
    "                    continue        \n",
    "    return print(\"The sum of all numbers in the given list is :\", sum)\n",
    "\n",
    "calc_num(list1)"
   ]
  },
  {
   "cell_type": "code",
   "execution_count": 2,
   "id": "ebe1d3bb-d0b4-4548-bd56-08941618cdd1",
   "metadata": {},
   "outputs": [
    {
     "name": "stdout",
     "output_type": "stream",
     "text": [
      "r$dzmg$gl$yvxlnv$z$wzgz$hxrvmgrhg.\n"
     ]
    }
   ],
   "source": [
    "sen = \"I want to become a Data Scientist.\"\n",
    "sen = sen.lower()\n",
    "\n",
    "alpha1 = [\"a\", \"b\", \"c\", \"d\", \"e\", \"f\", \"g\", \"h\", \"i\", \"j\", \"k\", \"l\", \"m\", \"n\", \"o\", \"p\", \"q\", \"r\", \"s\", \"t\", \"u\", \"v\", \"w\", \"x\", \"y\", \"z\"]\n",
    "alpha2 = ['z', 'y', 'x', 'w', 'v', 'u', 't', 's', 'r', 'q', 'p', 'o', 'n', 'm', 'l', 'k', 'j', 'i', 'h', 'g', 'f', 'e', 'd', 'c', 'b', 'a']\n",
    "sdict = {}\n",
    "flist = []\n",
    "\n",
    "for i in range(len(alpha1)):\n",
    "    sdict[alpha1[i]] = alpha2[i] \n",
    "\n",
    "for i in sen:\n",
    "    if i == \" \":\n",
    "        flist.append(\"$\")\n",
    "    elif i in sdict.keys():\n",
    "        flist.append(sdict[i])\n",
    "    else:\n",
    "        flist.append(i)\n",
    "fstr = \"\".join(flist)\n",
    "\n",
    "print(fstr)"
   ]
  },
  {
   "cell_type": "code",
   "execution_count": null,
   "id": "c74d95b2-b65d-4e66-9164-a53a33d49148",
   "metadata": {},
   "outputs": [],
   "source": []
  }
 ],
 "metadata": {
  "kernelspec": {
   "display_name": "Python 3 (ipykernel)",
   "language": "python",
   "name": "python3"
  },
  "language_info": {
   "codemirror_mode": {
    "name": "ipython",
    "version": 3
   },
   "file_extension": ".py",
   "mimetype": "text/x-python",
   "name": "python",
   "nbconvert_exporter": "python",
   "pygments_lexer": "ipython3",
   "version": "3.10.8"
  }
 },
 "nbformat": 4,
 "nbformat_minor": 5
}
